{
  "nbformat": 4,
  "nbformat_minor": 0,
  "metadata": {
    "colab": {
      "name": "Aula-01.ipynb",
      "provenance": [],
      "toc_visible": true,
      "authorship_tag": "ABX9TyNRN8dF7/lxjmQWyBMcVEcS",
      "include_colab_link": true
    },
    "kernelspec": {
      "name": "python3",
      "display_name": "Python 3"
    },
    "language_info": {
      "name": "python"
    }
  },
  "cells": [
    {
      "cell_type": "markdown",
      "metadata": {
        "id": "view-in-github",
        "colab_type": "text"
      },
      "source": [
        "<a href=\"https://colab.research.google.com/github/Diego-Peixoto/Diego-Peixoto/blob/main/Aula_01.ipynb\" target=\"_parent\"><img src=\"https://colab.research.google.com/assets/colab-badge.svg\" alt=\"Open In Colab\"/></a>"
      ]
    },
    {
      "cell_type": "markdown",
      "source": [
        "#Aula 01 - PYTHON"
      ],
      "metadata": {
        "id": "JeBRqu6k-yCo"
      }
    },
    {
      "cell_type": "markdown",
      "source": [
        "#Aula 02 - PYTHON\n"
      ],
      "metadata": {
        "id": "cydQtRZF_Dqz"
      }
    },
    {
      "cell_type": "code",
      "source": [
        "#Funções built-in:(print, input) - Funções que são parte da estrutura do Python\n",
        "\n",
        "#Print, imprime dados digitado pelo desenvolvedor.\n",
        "\n",
        "#Input, coleta dados que o usuario digita no teclado.\n",
        "\n",
        "print(\"Olá Mundo!\")\n",
        "input()"
      ],
      "metadata": {
        "id": "7E_mj33__qf_"
      },
      "execution_count": null,
      "outputs": []
    },
    {
      "cell_type": "code",
      "source": [
        "#Palavras reservadas (if, eslse, or...) que são parte da estrutura do Python e só podem ser usadas para o conceuto que foram criadas."
      ],
      "metadata": {
        "id": "QyLltK50AwUw"
      },
      "execution_count": null,
      "outputs": []
    },
    {
      "cell_type": "markdown",
      "source": [
        "#Aula 03 - VARIAVEIS\n",
        "\n",
        "Na programação, as variaveis são utilizadas para armazenar valores e dar um nome para uma área de memória do computador onde se armazena os dados.\n"
      ],
      "metadata": {
        "id": "kNlHbucIBXEe"
      }
    },
    {
      "cell_type": "code",
      "source": [
        "#Nome para as variaveis. \n",
        "#Regra Geral: Começar sempre com letras!"
      ],
      "metadata": {
        "id": "6EZaNhFRBbpA"
      },
      "execution_count": null,
      "outputs": []
    },
    {
      "cell_type": "code",
      "source": [
        "#Formas de declarar variaveis:\n",
        "t1 = 8\n",
        "teste = 8\n",
        "teste_1 = 8\n",
        "\n",
        "x = 3 (Atribuição)\n",
        "x == 3 (Comparação)"
      ],
      "metadata": {
        "id": "tfPHpxn3CF9H"
      },
      "execution_count": null,
      "outputs": []
    },
    {
      "cell_type": "code",
      "source": [
        "x = 10 \n",
        "y = 15\n",
        "\n",
        "x * y - x "
      ],
      "metadata": {
        "id": "-Ki7KoZqDl8Y"
      },
      "execution_count": null,
      "outputs": []
    },
    {
      "cell_type": "markdown",
      "source": [
        "#Tipos de variaveis\n"
      ],
      "metadata": {
        "id": "YSjJGR5bE8yA"
      }
    },
    {
      "cell_type": "code",
      "source": [
        "#Numéricas: Inteiras ou Flutuantes (int or float)\n",
        "idade = 21 (\"numero inteiro\")\n",
        "salario = 1045.85 (\"numero flutuante\")\n",
        "\n",
        "#Booleanas (Verdadeiro ou Falso)\n",
        "V = True\n",
        "F = False\n",
        "\n",
        "#String (Caracteres ou as Letras)\n",
        "nome = Diego\n",
        "idade = 21\n",
        "idade_02 = 21"
      ],
      "metadata": {
        "colab": {
          "base_uri": "https://localhost:8080/",
          "height": 235
        },
        "id": "hJ8Aalq2FAiu",
        "outputId": "261a96c9-9658-4de0-8cef-66d0d977bec3"
      },
      "execution_count": 83,
      "outputs": [
        {
          "output_type": "error",
          "ename": "TypeError",
          "evalue": "ignored",
          "traceback": [
            "\u001b[0;31m---------------------------------------------------------------------------\u001b[0m",
            "\u001b[0;31mTypeError\u001b[0m                                 Traceback (most recent call last)",
            "\u001b[0;32m<ipython-input-83-efbaf3cdd1c0>\u001b[0m in \u001b[0;36m<module>\u001b[0;34m()\u001b[0m\n\u001b[1;32m      1\u001b[0m \u001b[0;31m#Numéricas: Inteiras ou Flutuantes (int or float)\u001b[0m\u001b[0;34m\u001b[0m\u001b[0;34m\u001b[0m\u001b[0;34m\u001b[0m\u001b[0m\n\u001b[0;32m----> 2\u001b[0;31m \u001b[0midade\u001b[0m \u001b[0;34m=\u001b[0m \u001b[0;36m21\u001b[0m \u001b[0;34m(\u001b[0m\u001b[0;34m\"numero inteiro\"\u001b[0m\u001b[0;34m)\u001b[0m\u001b[0;34m\u001b[0m\u001b[0;34m\u001b[0m\u001b[0m\n\u001b[0m\u001b[1;32m      3\u001b[0m \u001b[0msalario\u001b[0m \u001b[0;34m=\u001b[0m \u001b[0;36m1045.85\u001b[0m \u001b[0;34m(\u001b[0m\u001b[0;34m\"numero flutuante\"\u001b[0m\u001b[0;34m)\u001b[0m\u001b[0;34m\u001b[0m\u001b[0;34m\u001b[0m\u001b[0m\n\u001b[1;32m      4\u001b[0m \u001b[0;34m\u001b[0m\u001b[0m\n\u001b[1;32m      5\u001b[0m \u001b[0;31m#Booleanas (Verdadeiro ou Falso)\u001b[0m\u001b[0;34m\u001b[0m\u001b[0;34m\u001b[0m\u001b[0;34m\u001b[0m\u001b[0m\n",
            "\u001b[0;31mTypeError\u001b[0m: 'int' object is not callable"
          ]
        }
      ]
    },
    {
      "cell_type": "markdown",
      "source": [
        "#Aula 05 - Função Type( ) e conversão de variáveis"
      ],
      "metadata": {
        "id": "1Pz9dS1yGORp"
      }
    },
    {
      "cell_type": "code",
      "source": [
        "p1 = 7\n",
        "p2 = 7.6\n",
        "p1 = float\n",
        "p1"
      ],
      "metadata": {
        "colab": {
          "base_uri": "https://localhost:8080/"
        },
        "id": "SWmNNSFMGY4X",
        "outputId": "c8ca3426-dc9b-4e94-88f5-7ae0f2f44492"
      },
      "execution_count": 39,
      "outputs": [
        {
          "output_type": "execute_result",
          "data": {
            "text/plain": [
              "float"
            ]
          },
          "metadata": {},
          "execution_count": 39
        }
      ]
    },
    {
      "cell_type": "markdown",
      "source": [
        "#Aula 06 - Função print()"
      ],
      "metadata": {
        "id": "-cM5EJ1MJmzp"
      }
    },
    {
      "cell_type": "code",
      "source": [
        "nome = input (\"Seja Bem-Vindo. por favor, diga-nos o seu nome:\")\n",
        "print (\"Muito prazer em conhecer você,\", nome)\n",
        "\n",
        "idade = input (\"Por favor, digite a sua idade:\")\n",
        "print (\"Sua idade é:\", idade), \n",
        "print (\"Correto?\")\n",
        "\n",
        "altura = input (\"Agora me diga a sua altura:\")\n",
        "print (\"Sua altura é:\", altura) "
      ],
      "metadata": {
        "id": "YWwwGdPRJs8I"
      },
      "execution_count": null,
      "outputs": []
    },
    {
      "cell_type": "code",
      "source": [
        "idade = 21\n",
        "x = 150\n",
        "y = 10 \n",
        "nome = \"Diego\"\n",
        "salario = 2000.555\n",
        "\n",
        "print (x+y)\n",
        "print (\"Soma = \", x+y)\n",
        "print(\"A idade de Diego é %d anos\" % idade)\n",
        "print()\n",
        "print(\"%s tem %d anos e salário R$%f\" % (nome, idade, salario))"
      ],
      "metadata": {
        "colab": {
          "base_uri": "https://localhost:8080/"
        },
        "id": "NZeBVKabRn9G",
        "outputId": "8720eaba-fa7a-45bc-dba7-f2b3bcfd0426"
      },
      "execution_count": 85,
      "outputs": [
        {
          "output_type": "stream",
          "name": "stdout",
          "text": [
            "160\n",
            "Soma =  160\n",
            "A idade de Diego é 21 anos\n",
            "\n",
            "Diego tem 21 anos e salário R$2000.555000\n"
          ]
        }
      ]
    },
    {
      "cell_type": "code",
      "source": [
        "multiplicacao = x/y\n",
        "print(multiplicacao)\n",
        "print(\"Multiplicação = %.3f,00\" % (multiplicacao))"
      ],
      "metadata": {
        "colab": {
          "base_uri": "https://localhost:8080/"
        },
        "id": "iY2aYUW-UAWp",
        "outputId": "eab0103c-7c58-4b97-d29d-6e6ae84120de"
      },
      "execution_count": 81,
      "outputs": [
        {
          "output_type": "stream",
          "name": "stdout",
          "text": [
            "15.0\n",
            "Multiplicação = 15.000,00\n"
          ]
        }
      ]
    },
    {
      "cell_type": "markdown",
      "source": [
        "##Aula 06 - Função print() com format\n"
      ],
      "metadata": {
        "id": "Kr4eooYcWKtJ"
      }
    },
    {
      "cell_type": "code",
      "source": [
        "print(\"{} tem {} anos e salário R${}\" .format(nome, idade, salario))"
      ],
      "metadata": {
        "colab": {
          "base_uri": "https://localhost:8080/"
        },
        "id": "j-LcV0oTWN1J",
        "outputId": "7d098955-45e0-4289-ebac-70bcbf981b60"
      },
      "execution_count": 86,
      "outputs": [
        {
          "output_type": "stream",
          "name": "stdout",
          "text": [
            "Diego tem 21 anos e salário R$2000.555\n"
          ]
        }
      ]
    }
  ]
}